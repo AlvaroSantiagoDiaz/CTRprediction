{
 "cells": [
  {
   "cell_type": "markdown",
   "id": "67b73c9f",
   "metadata": {},
   "source": [
    "# Google Big Query API Connection"
   ]
  },
  {
   "cell_type": "markdown",
   "id": "4b8c2776",
   "metadata": {},
   "source": [
    "<div class=\"alert alert-block alert-warning\">\n",
    "  \n",
    "<b>Notebook objectives:</b>\n",
    "    \n",
    "* Connect to data source via Google Query API\n",
    "    \n",
    "\n",
    "* Export data in pickle format"
   ]
  },
  {
   "cell_type": "code",
   "execution_count": 1,
   "id": "74c2eee5",
   "metadata": {},
   "outputs": [],
   "source": [
    "from IPython.core.interactiveshell import InteractiveShell\n",
    "InteractiveShell.ast_node_interactivity = \"all\""
   ]
  },
  {
   "cell_type": "markdown",
   "id": "5675172d",
   "metadata": {},
   "source": [
    "## Import packages\n",
    "\n",
    "If errors with dependencies occurre run version packages cell."
   ]
  },
  {
   "cell_type": "code",
   "execution_count": 4,
   "id": "ebc87304",
   "metadata": {},
   "outputs": [],
   "source": [
    "##### Packages to installs #####\n",
    "\n",
    "# !pip install google.cloud.bigquery_storage\n",
    "# !pip install --upgrade google-cloud-bigquery\n",
    "# !pip install --upgrade google-cloud-storage\n",
    "# !pip install --upgrade 'google-cloud-bigquery[bqstorage,pandas]'\n",
    "# !pip install pyarrow"
   ]
  },
  {
   "cell_type": "code",
   "execution_count": 5,
   "id": "37733867",
   "metadata": {},
   "outputs": [],
   "source": [
    "##### Set version of packages to avoid depedencies issues #####\n",
    "\n",
    "# !pip install google-cloud-bigquery==1.26.1\n",
    "# !pip install google-cloud-bigquery-storage==1.0.0\n",
    "# !pip install pandas-gbq==0.13.3\n",
    "# !pip install pandas==1.3.5\n",
    "# !pip install pyarrow==6.0.1"
   ]
  },
  {
   "cell_type": "code",
   "execution_count": 6,
   "id": "90ebcf6f",
   "metadata": {},
   "outputs": [],
   "source": [
    "### Importing API packages\n",
    "\n",
    "import json # handling JSON objects\n",
    "import pandas as pd\n",
    "import google.auth # Google authentification\n",
    "import pyarrow\n",
    "\n",
    "from google.cloud import bigquery\n",
    "from google.oauth2 import service_account\n",
    "from google.cloud.bigquery_storage import BigQueryReadClient\n",
    "from google.cloud.bigquery.table import TableReference\n",
    "\n",
    "### Notebook settings\n",
    "\n",
    "# path = '/content/sample_data/'"
   ]
  },
  {
   "cell_type": "markdown",
   "id": "21a18a5a",
   "metadata": {},
   "source": [
    "## Reading API credentials"
   ]
  },
  {
   "cell_type": "code",
   "execution_count": 7,
   "id": "41c0e575",
   "metadata": {},
   "outputs": [],
   "source": [
    "# Loading API Google Cloud Big Query Credentials\n",
    "\n",
    "service_account_info = json.load(open('KEYFILE.json')) # Loading JSON token file\n",
    "credentials = service_account.Credentials.from_service_account_info(service_account_info) # defining credentials\n",
    "project_id = 'media-audit-platform' # MAP's Google cloud project ID\n",
    "client = bigquery.Client(credentials= credentials,project=project_id) # client logging credentials\n",
    "\n",
    "# Defining bqstorageclient\n",
    "bqstorageclient = google.cloud.bigquery_storage.BigQueryReadClient(credentials=credentials)"
   ]
  },
  {
   "cell_type": "code",
   "execution_count": 8,
   "id": "5e145909",
   "metadata": {},
   "outputs": [],
   "source": [
    "import google.auth\n",
    "from google.cloud.bigquery_storage import BigQueryReadClient"
   ]
  },
  {
   "cell_type": "markdown",
   "id": "253bb9c3",
   "metadata": {},
   "source": [
    "## Querying Big Query Table"
   ]
  },
  {
   "cell_type": "code",
   "execution_count": 9,
   "id": "3a0c5a3f",
   "metadata": {},
   "outputs": [],
   "source": [
    "##### Select all BigQuery table\n",
    "query_job = client.query(\"\"\"\n",
    "  \n",
    "  SELECT c.*\n",
    "   FROM media-audit-platform.MailOnline_OceanSaver.MailOnline_OceanSaver_DV360_DetailedRawData as c \n",
    "   TABLESAMPLE SYSTEM (10 PERCENT)\n",
    "   \"\"\")\n",
    "\n",
    "results = query_job.result() # Wait for the job to complete"
   ]
  },
  {
   "cell_type": "code",
   "execution_count": null,
   "id": "533a2960",
   "metadata": {},
   "outputs": [],
   "source": [
    "df = (query_job.result().to_dataframe(create_bqstorage_client=True,))"
   ]
  },
  {
   "cell_type": "code",
   "execution_count": null,
   "id": "799f026b",
   "metadata": {},
   "outputs": [],
   "source": [
    "###### Oceansaver raw detailed data (size: 90.99 GB)\n",
    "###### Run with caution if processor and memory are not large enough\n",
    "\n",
    "# Downloading table from bigquery\n",
    "table = bigquery.TableReference.from_string(\"media-audit-platform.MailOnline_OceanSaver.MailOnline_OceanSaver_DV360_DetailedRawData\")\n",
    "rows = client.list_rows(\n",
    "table,\n",
    "selected_fields=[\n",
    "bigquery.SchemaField(\"Date\", \"DATE\"),\n",
    "bigquery.SchemaField(\"Time_of_Day\", \"INTEGER\"),\n",
    "bigquery.SchemaField(\"Advertiser\", \"STRING\"),\n",
    "bigquery.SchemaField(\"Advertiser_ID\", \"INTEGER\"),\n",
    "bigquery.SchemaField(\"Advertiser_Currency\", \"STRING\"),\n",
    "bigquery.SchemaField(\"Campaign\", \"STRING\"),\n",
    "bigquery.SchemaField(\"Campaign_ID\", \"INTEGER\"),\n",
    "bigquery.SchemaField(\"Insertion_Order\", \"STRING\"),\n",
    "bigquery.SchemaField(\"Insertion_Order_ID\", \"INTEGER\"),\n",
    "bigquery.SchemaField(\"Line_Item\", \"STRING\"),\n",
    "bigquery.SchemaField(\"Line_Item_ID\", \"INTEGER\"),\n",
    "bigquery.SchemaField(\"Line_Item_Type\", \"STRING\"),\n",
    "bigquery.SchemaField(\"Platform\", \"STRING\"),\n",
    "bigquery.SchemaField(\"Device_Type\", \"STRING\"),\n",
    "bigquery.SchemaField(\"Device_Make\", \"STRING\"),\n",
    "bigquery.SchemaField(\"Device_Model\", \"STRING\"),\n",
    "bigquery.SchemaField(\"Creative_Type\", \"STRING\"),\n",
    "bigquery.SchemaField(\"Creative_Size\", \"STRING\"),\n",
    "bigquery.SchemaField(\"Operating_System\", \"STRING\"),\n",
    "bigquery.SchemaField(\"Browser\", \"STRING\"),\n",
    "bigquery.SchemaField(\"ISP_or_Carrier\", \"STRING\"),\n",
    "bigquery.SchemaField(\"ISP_or_Carrier_ID\", \"INTEGER\"),\n",
    "bigquery.SchemaField(\"Environment\", \"STRING\"),\n",
    "bigquery.SchemaField(\"Exchange\", \"STRING\"),\n",
    "bigquery.SchemaField(\"App_URL\", \"STRING\"),\n",
    "bigquery.SchemaField(\"App_URL_ID\", \"INTEGER\"),\n",
    "bigquery.SchemaField(\"Channel_Type\", \"STRING\"),\n",
    "bigquery.SchemaField(\"Channel\", \"STRING\"),\n",
    "bigquery.SchemaField(\"Channel_ID\", \"INTEGER\"),\n",
    "bigquery.SchemaField(\"Exchange\", \"STRING\"),\n",
    "bigquery.SchemaField(\"Exchange_ID\", \"INTEGER\"),\n",
    "bigquery.SchemaField(\"Inventory_Source\", \"STRING\"),\n",
    "bigquery.SchemaField(\"Inventory_Source_ID\", \"INTEGER\"),\n",
    "bigquery.SchemaField(\"Inventory_Source_Type\", \"STRING\"),\n",
    "bigquery.SchemaField(\"Ad_Position\", \"STRING\"),\n",
    "bigquery.SchemaField(\"Ad_Type\", \"STRING\"),\n",
    "bigquery.SchemaField(\"Position_in_Content\", \"STRING\"),\n",
    "bigquery.SchemaField(\"Public_Inventory\", \"BOOLEAN\"),\n",
    "bigquery.SchemaField(\"Country\", \"STRING\"),\n",
    "bigquery.SchemaField(\"City\", \"STRING\"),\n",
    "bigquery.SchemaField(\"City_ID\", \"STRING\"),\n",
    "bigquery.SchemaField(\"Impressions\", \"INTEGER\"),\n",
    "bigquery.SchemaField(\"Billable_Impressions\", \"INTEGER\"),\n",
    "bigquery.SchemaField(\"Active_View_Viewable_Impressions\", \"INTEGER\"),\n",
    "bigquery.SchemaField(\"Clicks\", \"INTEGER\"),\n",
    "bigquery.SchemaField(\"Total_Conversions\", \"INTEGER\"),\n",
    "bigquery.SchemaField(\"Post_Click_Conversions\", \"INTEGER\"),\n",
    "bigquery.SchemaField(\"Post_View_Conversions\", \"INTEGER\"),\n",
    "bigquery.SchemaField(\"Revenue_Adv_Currency\", \"FLOAT\"),\n",
    "bigquery.SchemaField(\"Media_Cost_Advertiser_Currency\", \"FLOAT\"),\n",
    "],\n",
    ")\n",
    "os_raw_detailed = rows.to_dataframe(bqstorage_client=bqstorageclient)"
   ]
  },
  {
   "cell_type": "code",
   "execution_count": null,
   "id": "29fca1fc",
   "metadata": {},
   "outputs": [],
   "source": [
    "###### Oceansaver raw data (size: 13.77 GB)\n",
    "###### Run with caution if processor and memory are not large enough\n",
    "\n",
    "# Downloading table from bigquery\n",
    "table = bigquery.TableReference.from_string(\"media-audit-platform.MailOnline_OceanSaver.MailOnline_OceanSaver_DV360_RawData\")\n",
    "rows = client.list_rows(\n",
    "table,\n",
    "selected_fields=[\n",
    "bigquery.SchemaField(\"Date\", \"DATE\"),\n",
    "bigquery.SchemaField(\"Time_of_Day\", \"INTEGER\"),\n",
    "bigquery.SchemaField(\"Advertiser\", \"STRING\"),\n",
    "bigquery.SchemaField(\"Advertiser_ID\", \"INTEGER\"),\n",
    "bigquery.SchemaField(\"Advertiser_Currency\", \"STRING\"),\n",
    "bigquery.SchemaField(\"Campaign\", \"STRING\"),\n",
    "bigquery.SchemaField(\"Campaign_ID\", \"INTEGER\"),\n",
    "bigquery.SchemaField(\"Insertion_Order\", \"STRING\"),\n",
    "bigquery.SchemaField(\"Insertion_Order_ID\", \"INTEGER\"),\n",
    "bigquery.SchemaField(\"Line_Item\", \"STRING\"),\n",
    "bigquery.SchemaField(\"Line_Item_ID\", \"INTEGER\"),\n",
    "# bigquery.SchemaField(\"Line_Item_Type\", \"STRING\"),\n",
    "# bigquery.SchemaField(\"Platform\", \"STRING\"),\n",
    "bigquery.SchemaField(\"Device_Type\", \"STRING\"),\n",
    "# bigquery.SchemaField(\"Device_Make\", \"STRING\"),\n",
    "# bigquery.SchemaField(\"Device_Model\", \"STRING\"),\n",
    "bigquery.SchemaField(\"Creative_Type\", \"STRING\"),\n",
    "bigquery.SchemaField(\"Creative_Size\", \"STRING\"),\n",
    "# bigquery.SchemaField(\"Operating_System\", \"STRING\"),\n",
    "# bigquery.SchemaField(\"Browser\", \"STRING\"),\n",
    "# bigquery.SchemaField(\"ISP_or_Carrier\", \"STRING\"),\n",
    "# bigquery.SchemaField(\"ISP_or_Carrier_ID\", \"INTEGER\"),\n",
    "# bigquery.SchemaField(\"Environment\", \"STRING\"),\n",
    "bigquery.SchemaField(\"Exchange\", \"STRING\"),\n",
    "bigquery.SchemaField(\"App_URL\", \"STRING\"),\n",
    "# bigquery.SchemaField(\"App_URL_ID\", \"INTEGER\"),\n",
    "# bigquery.SchemaField(\"Channel_Type\", \"STRING\"),\n",
    "# bigquery.SchemaField(\"Channel\", \"STRING\"),\n",
    "# bigquery.SchemaField(\"Channel_ID\", \"INTEGER\"),\n",
    "bigquery.SchemaField(\"Exchange\", \"STRING\"),\n",
    "# bigquery.SchemaField(\"Exchange_ID\", \"INTEGER\"),\n",
    "bigquery.SchemaField(\"Inventory_Source\", \"STRING\"),\n",
    "# bigquery.SchemaField(\"Inventory_Source_ID\", \"INTEGER\"),\n",
    "bigquery.SchemaField(\"Inventory_Source_Type\", \"STRING\"),\n",
    "# bigquery.SchemaField(\"Ad_Position\", \"STRING\"),\n",
    "# bigquery.SchemaField(\"Ad_Type\", \"STRING\"),\n",
    "# bigquery.SchemaField(\"Position_in_Content\", \"STRING\"),\n",
    "# bigquery.SchemaField(\"Public_Inventory\", \"BOOLEAN\"),\n",
    "# bigquery.SchemaField(\"Country\", \"STRING\"),\n",
    "bigquery.SchemaField(\"City\", \"STRING\"),\n",
    "bigquery.SchemaField(\"City_ID\", \"STRING\"),\n",
    "bigquery.SchemaField(\"Impressions\", \"INTEGER\"),\n",
    "bigquery.SchemaField(\"Billable_Impressions\", \"INTEGER\"),\n",
    "bigquery.SchemaField(\"Active_View_Viewable_Impressions\", \"INTEGER\"),\n",
    "bigquery.SchemaField(\"Clicks\", \"INTEGER\"),\n",
    "bigquery.SchemaField(\"Total_Conversions\", \"INTEGER\"),\n",
    "bigquery.SchemaField(\"Post_Click_Conversions\", \"INTEGER\"),\n",
    "bigquery.SchemaField(\"Post_View_Conversions\", \"INTEGER\"),\n",
    "bigquery.SchemaField(\"Revenue_Adv_Currency\", \"FLOAT\"),\n",
    "bigquery.SchemaField(\"Media_Cost_Advertiser_Currency\", \"FLOAT\"),\n",
    "],\n",
    ")\n",
    "os_raw_simple = rows.to_dataframe(bqstorage_client=bqstorageclient)\n",
    "#print(Client1.head())"
   ]
  },
  {
   "cell_type": "markdown",
   "id": "a4b4aada",
   "metadata": {},
   "source": [
    "## Exporting tables as pickle"
   ]
  },
  {
   "cell_type": "code",
   "execution_count": null,
   "id": "e5d056d8",
   "metadata": {},
   "outputs": [],
   "source": [
    "sfile = bz2.BZ2File(path + 'os_raw', 'w')\n",
    "pickle.dump(os_raw,sfile)\n",
    "sfile.close()"
   ]
  },
  {
   "cell_type": "code",
   "execution_count": null,
   "id": "dd67b304",
   "metadata": {},
   "outputs": [],
   "source": [
    "pickled_data = bz2.BZ2File(path + 'os_raw', 'rb')\n",
    "n_df = cPickle.load(pickled_data)\n",
    "pickled_data.close()"
   ]
  }
 ],
 "metadata": {
  "kernelspec": {
   "display_name": "Python 3",
   "language": "python",
   "name": "python3"
  },
  "language_info": {
   "codemirror_mode": {
    "name": "ipython",
    "version": 3
   },
   "file_extension": ".py",
   "mimetype": "text/x-python",
   "name": "python",
   "nbconvert_exporter": "python",
   "pygments_lexer": "ipython3",
   "version": "3.8.2"
  }
 },
 "nbformat": 4,
 "nbformat_minor": 5
}
