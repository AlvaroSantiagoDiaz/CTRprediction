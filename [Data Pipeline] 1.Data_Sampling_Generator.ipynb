{
 "cells": [
  {
   "cell_type": "markdown",
   "id": "70076bc0",
   "metadata": {},
   "source": [
    "# Data Sampling to compile daily data into weekly samples"
   ]
  },
  {
   "cell_type": "markdown",
   "id": "978ab0bc",
   "metadata": {},
   "source": [
    "# 1. Sample generation\n",
    "\n",
    "**Note:** This notebook helps create different types of sampling (i.e., random sampling and stratified sampling) with each daily data set and then concatentas them into a weekly data set."
   ]
  },
  {
   "cell_type": "markdown",
   "id": "acc25425",
   "metadata": {},
   "source": [
    "<div class=\"alert alert-block alert-warning\">\n",
    "  \n",
    "<b>Notebook objectives:</b>\n",
    "    \n",
    "* Define functions to generate various types of sampling out of a full day level data set\n",
    "    \n",
    "\n",
    "* The following data sampling methods are defined in function form:\n",
    "    \n",
    "    - Random Sample\n",
    "    - Stratified Samling using an input variable (i.e., a variable that wants to be used as distribution base)\n",
    "    - Stratified Sampling using the target feature\n",
    "    \n",
    "    \n",
    "* Export new generated data samples in pickle form to local directory\n",
    "    \n",
    "    \n",
    "* Finally, a plot is generated using the data imbalance ratio to understand if there's an stabilization at daily data level\n",
    "    \n",
    "    "
   ]
  },
  {
   "cell_type": "markdown",
   "id": "ad2c0097",
   "metadata": {},
   "source": [
    "## 1.1 Load packages"
   ]
  },
  {
   "cell_type": "code",
   "execution_count": 1,
   "id": "49712854",
   "metadata": {},
   "outputs": [],
   "source": [
    "##### Importing packages\n",
    "\n",
    "# Data handling\n",
    "import numpy as np\n",
    "import pandas as pd\n",
    "import seaborn as sns\n",
    "import matplotlib.pyplot as plt\n",
    "plt.style.use('seaborn') # pretty graphs\n",
    "import matplotlib.ticker as mticker\n",
    "from matplotlib.ticker import FormatStrFormatter, StrMethodFormatter, FuncFormatter, MultipleLocator, AutoMinorLocator\n",
    "from IPython.display import HTML, Image #display formatted texts\n",
    "import warnings\n",
    "warnings.filterwarnings('ignore')\n",
    "\n",
    "# File format handling\n",
    "import pickle\n",
    "import bz2\n",
    "import _pickle as cPickle\n",
    "\n",
    "# stratified sampling\n",
    "from sklearn.model_selection import train_test_split\n",
    "\n",
    "# random state\n",
    "seed = 2323\n",
    "\n",
    "# Path set up (If a new directory is used all of the paths need to be updated)\n",
    "\n",
    "path = \"/project/data/\" \n",
    "path_w1 = \"/project/data/w1/\"\n",
    "path_w2 = \"/project/data/w2/\"\n",
    "path_w3 = \"/project/data/w3/\"\n",
    "path_w4 = \"/project/data/w4/\"\n",
    "path_w5 = \"/project/data/w5/\"\n",
    "json_path = \"/project/KEYFILE.json\""
   ]
  },
  {
   "cell_type": "markdown",
   "id": "131d6ea8",
   "metadata": {},
   "source": [
    "## 1.2 Pre-defined functions\n",
    "\n",
    "These functions are used to generate different types of samples (i.e., random samples, stratified target feature, stratified 'time of the day' feature)."
   ]
  },
  {
   "cell_type": "code",
   "execution_count": 2,
   "id": "43c658c6",
   "metadata": {},
   "outputs": [],
   "source": [
    "###### Pre-defined functions\n",
    "\n",
    "###### RANDOM SAMPLES GENERATOR\n",
    "\n",
    "def get_random_sampled_df(pickles_path, sample_size = 0.2):\n",
    "    \n",
    "    '''\n",
    "    This function generates a new data frame from random samples a provided pickles file repository. \n",
    "    It receives as inputs:\n",
    "    - pickle_path = path for the pickle files for each week (i.e.,path_w1, path_w2, etc.)\n",
    "    - sample_size = generates a random sample equals to this percentage. Default value 0.2\n",
    "    '''\n",
    "    \n",
    "    # list of all pickles in the provided repository\n",
    "    pickles_list = ['client_day_1', 'client_day_2', 'client_day_3', 'client_day_4', 'client_day_5', 'client_day_6', 'client_day_7']\n",
    "    \n",
    "    samples = []\n",
    "    for idx, pickle in enumerate(pickles_list):\n",
    "        pickled_data = bz2.BZ2File(pickles_path + pickle, 'rb')\n",
    "        n_df = cPickle.load(pickled_data)\n",
    "        pickled_data.close()\n",
    "        sample_random = n_df.sample(frac = sample_size, random_state = seed)\n",
    "        samples.append(sample_random)\n",
    "\n",
    "    for s in samples:\n",
    "        new_df = pd.concat([*samples], ignore_index = True)\n",
    "    \n",
    "    print(F'New data frame from samples generated with {new_df.shape[0]} rows and {new_df.shape[1]} columns')\n",
    "    return new_df\n",
    "\n",
    "###### STRATIFIED RANDOM SAMPLES GENERATOR BASED IN 'TIME OF DAY' FEATURE\n",
    "\n",
    "def get_stratified_sample_df(pickles_path, \n",
    "                             strata_features = ['Time of Day'],\n",
    "                             sample_size = 0.15):\n",
    "    \n",
    "    '''\n",
    "    This function generates a new data frame from random samples following a stratified distributions. \n",
    "    It receives as inputs:\n",
    "    - pickle_path = path for the pickle files for each week (i.e.,path_w1, path_w2, etc.)\n",
    "    - strata_features = features from which a distribution sampling is based on\n",
    "    - sample_size = generates a random sample equals to this percentage. Default value 0.15\n",
    "    '''\n",
    "    \n",
    "    # list of all pickles in the provided repository\n",
    "    pickles_list = ['client_day_1', 'client_day_2', 'client_day_3', 'client_day_4', 'client_day_5', 'client_day_6', 'client_day_7']\n",
    "    \n",
    "    # store dayly samples\n",
    "    samples_strfd = []\n",
    "    for idx, pickle in enumerate(pickles_list):\n",
    "        pickled_data = bz2.BZ2File(pickles_path + pickle, 'rb')\n",
    "        n_df = cPickle.load(pickled_data)\n",
    "        pickled_data.close()\n",
    "        subset = list(n_df.columns[~n_df.columns.str.contains(pat = 'ID', regex= True)]) #mremoves ID columns\n",
    "        n_df = n_df[subset]\n",
    "        n_df.dropna(inplace=True) #removes NAs\n",
    "        n_df['Time of Day'] = n_df['Time of Day'].astype('str') # get time of day as str\n",
    "        strfd_sample_train, strfd_sample_test = train_test_split(n_df, test_size = sample_size, stratify = n_df[strata_features], random_state = seed)\n",
    "        samples_strfd.append(strfd_sample_test)\n",
    "\n",
    "    for s in samples_strfd:\n",
    "        new_df = pd.concat([*samples_strfd], ignore_index = True)\n",
    "        \n",
    "    print(F'New data frame from stratified samples generated with {new_df.shape[0]} rows and {new_df.shape[1]} columns')\n",
    "    return new_df\n",
    "\n",
    "###### STRATIFIED TARGET FEATURE RANDOM SAMPLES GENERATOR\n",
    "\n",
    "def get_stratified_target_sample_df(pickles_path, sample_size = 0.15):\n",
    "    \n",
    "    '''\n",
    "    This function generates a new data frame from random samples following a stratified distributions of the target feature. \n",
    "    It receives as inputs:\n",
    "    - pickle_path = path for the pickle files for each week (i.e.,path_w1, path_w2, etc.)\n",
    "    - sample_size = generates a random sample equals to this percentage (default value = 0.15)\n",
    "    '''\n",
    "    \n",
    "    # list of all pickles in the provided repository\n",
    "    pickles_list = ['client_day_1', 'client_day_2', 'client_day_3', 'client_day_4', 'client_day_5', 'client_day_6', 'client_day_7']\n",
    "\n",
    "    samples_strfd = []\n",
    "    # load daily pickled files\n",
    "    for idx, pickle in enumerate(pickles_list):\n",
    "        pickled_data = bz2.BZ2File(pickles_path + pickle, 'rb')\n",
    "        n_df = cPickle.load(pickled_data)\n",
    "        pickled_data.close()\n",
    "        \n",
    "    # data pre-processing to generate stratified sample\n",
    "        subset = list(n_df.columns[~n_df.columns.str.contains(pat = 'ID', regex= True)]) #mremoves ID columns\n",
    "        n_df = n_df[subset]\n",
    "        n_df.dropna(inplace=True) #removes NAs\n",
    "        n_df['Time of Day'] = n_df['Time of Day'].astype('str') # get time of day as str\n",
    "\n",
    "    # get 'X' and 'y' matrixes to generate stratified sample\n",
    "        n_df['user_response'] = np.where(n_df['Clicks'] == 0, 0, 1) # generates target feature\n",
    "        x_columns_list = list(n_df.columns[~n_df.columns.str.contains(pat = 'user_response', regex= True)])\n",
    "        y = n_df['user_response']\n",
    "        X = n_df[x_columns_list]\n",
    "    \n",
    "    # stratified sample\n",
    "        X_strfd_sample_train, X_strfd_sample_test, y_strfd_sample_train, y_strfd_sample_test = train_test_split(X, y, test_size = sample_size, stratify = y,random_state = seed)\n",
    "    \n",
    "    #return final df\n",
    "        temp_df = pd.concat([X_strfd_sample_test, y_strfd_sample_test], axis=1)\n",
    "        samples_strfd.append(temp_df)\n",
    "\n",
    "    for s in samples_strfd:\n",
    "        final_df = pd.concat([*samples_strfd], axis=0)\n",
    "        \n",
    "    print(F\"New data frame from stratified samples generated with {final_df.shape[0]} rows and {final_df.shape[1]} columns\\ntarget feature proportion = {final_df['user_response'].value_counts(normalize = True, sort = True)[1]:.4%}\")\n",
    "    return final_df"
   ]
  },
  {
   "cell_type": "markdown",
   "id": "d477c7e6",
   "metadata": {},
   "source": [
    "## 1.3 Random samples\n",
    "\n",
    "**Note**: provide a weekly path (e.g path_w1) at a time to avoid running out of memory."
   ]
  },
  {
   "cell_type": "code",
   "execution_count": null,
   "id": "2073056f",
   "metadata": {},
   "outputs": [],
   "source": [
    "# Run pre-defined function to generate random sample by week\n",
    "w5_df = get_random_sampled_df(path_w2, sample_size = 0.05)"
   ]
  },
  {
   "cell_type": "code",
   "execution_count": null,
   "id": "bee75126",
   "metadata": {},
   "outputs": [],
   "source": [
    "# transform new random sample into pickle file\n",
    "sfile = bz2.BZ2File(path_w5 + 'sample_w5_5pct', 'w')\n",
    "pickle.dump(w5_df,sfile)\n",
    "sfile.close()"
   ]
  },
  {
   "cell_type": "markdown",
   "id": "cfb0ba41",
   "metadata": {},
   "source": [
    "## 1.4 Stratified samples\n",
    "\n",
    "**Note**: provide a weekly path (e.g path_w1) at a time to avoid running out of memory."
   ]
  },
  {
   "cell_type": "code",
   "execution_count": null,
   "id": "5beba8df",
   "metadata": {},
   "outputs": [],
   "source": [
    "# Run pre-defined function to generate stratified random sample by week\n",
    "new_df = get_stratified_sample_df(path_w5, strata_features = ['Time of Day'], sample_size =0.05)"
   ]
  },
  {
   "cell_type": "code",
   "execution_count": null,
   "id": "d1b996d0",
   "metadata": {},
   "outputs": [],
   "source": [
    "# transform new stratified sample to pickle file\n",
    "sfile = bz2.BZ2File(path_w5 + 'sample_strfd_w5_5pct', 'w')\n",
    "pickle.dump(new_df,sfile)\n",
    "sfile.close()"
   ]
  },
  {
   "cell_type": "markdown",
   "id": "2047bec8",
   "metadata": {},
   "source": [
    "## 1.5 Target feature stratified samples"
   ]
  },
  {
   "cell_type": "code",
   "execution_count": 12,
   "id": "fd65ee2a",
   "metadata": {},
   "outputs": [
    {
     "name": "stdout",
     "output_type": "stream",
     "text": [
      "New data frame from stratified samples generated with 1057053 rows and 41 columns\n",
      "target feature proportion = 0.0967%\n"
     ]
    }
   ],
   "source": [
    "strata_target_df = get_stratified_target_sample_df(path_w5, sample_size = 0.05)"
   ]
  },
  {
   "cell_type": "code",
   "execution_count": 13,
   "id": "a41b8088",
   "metadata": {},
   "outputs": [],
   "source": [
    "# transform new stratified sample to pickle file\n",
    "sfile = bz2.BZ2File(path_w5 + 'strata_target_w5_5pct', 'w')\n",
    "pickle.dump(strata_target_df,sfile)\n",
    "sfile.close()"
   ]
  },
  {
   "cell_type": "markdown",
   "id": "991784bf",
   "metadata": {},
   "source": [
    "## 1.6 Data size vs class imbalance\n",
    "\n",
    "Understanding how class imbalance for user response in clicks (i.e., 0 - No clicks; 1 - At least a click) behaves as data size increases."
   ]
  },
  {
   "cell_type": "code",
   "execution_count": 3,
   "id": "5f017a72",
   "metadata": {},
   "outputs": [],
   "source": [
    "### Compute data size and class imbalance data frame for 3 weeks\n",
    "\n",
    "pickles_list = ['client_day_1', 'client_day_2', 'client_day_3', 'client_day_4', 'client_day_5', 'client_day_6', 'client_day_7']\n",
    "\n",
    "size = []\n",
    "class_imbalance = []\n",
    "\n",
    "# load w1 data\n",
    "for idx, pickle in enumerate(pickles_list):\n",
    "    pickled_data = bz2.BZ2File(path_w1 + pickle, 'rb')\n",
    "    n_df = cPickle.load(pickled_data)\n",
    "    pickled_data.close()\n",
    "\n",
    "    n_df['user_response'] = np.where(n_df['Clicks'] == 0, 0, 1)\n",
    "# store w1 values\n",
    "    size.append(n_df.shape[0])\n",
    "    class_imbalance.append(n_df['user_response'].value_counts(normalize = True, sort = True)[1])\n",
    "\n",
    "# load w2 data\n",
    "for idx, pickle in enumerate(pickles_list):\n",
    "    pickled_data = bz2.BZ2File(path_w2 + pickle, 'rb')\n",
    "    n2_df = cPickle.load(pickled_data)\n",
    "    pickled_data.close()\n",
    "\n",
    "    n2_df['user_response'] = np.where(n2_df['Clicks'] == 0, 0, 1)\n",
    "# store w2 values\n",
    "    size.append(n2_df.shape[0])\n",
    "    class_imbalance.append(n2_df['user_response'].value_counts(normalize = True, sort = True)[1])\n",
    "    \n",
    "# load w3 data\n",
    "for idx, pickle in enumerate(pickles_list):\n",
    "    pickled_data = bz2.BZ2File(path_w3 + pickle, 'rb')\n",
    "    n3_df = cPickle.load(pickled_data)\n",
    "    pickled_data.close()\n",
    "\n",
    "    n3_df['user_response'] = np.where(n3_df['Clicks'] == 0, 0, 1)\n",
    "    \n",
    "# store w3 values\n",
    "    size.append(n3_df.shape[0])\n",
    "    class_imbalance.append(n3_df['user_response'].value_counts(normalize = True, sort = True)[1])\n",
    "\n",
    "# create new data frame with data size and class imbalance proportion\n",
    "new_df = pd.DataFrame(list(zip(size, class_imbalance)),\n",
    "           columns =['Total num instances', 'class imbalance'], index =['day 1', 'day 2', 'day 3', 'day 4', 'day 5', 'day 6', 'day 7',\n",
    "                                                                       'day 8', 'day 9', 'day 10', 'day 11', 'day 12', 'day 13', 'day 14',\n",
    "                                                                       'day 15', 'day 16', 'day 17', 'day 18', 'day 19', 'day 20', 'day 21'])\n",
    "\n",
    "new_df['cumulative num instances'] = new_df['Total num instances'].cumsum()\n",
    "new_df['mean class imbalance'] = new_df['class imbalance'].expanding().mean() * 100"
   ]
  },
  {
   "cell_type": "code",
   "execution_count": 14,
   "id": "c1ee06aa",
   "metadata": {},
   "outputs": [
    {
     "data": {
      "image/png": "[encoded data removed]",
      "text/plain": [
       "<Figure size 576x396 with 2 Axes>"
      ]
     },
     "metadata": {},
     "output_type": "display_data"
    }
   ],
   "source": [
    "##### Plotting data size vs class imbalance\n",
    "\n",
    "### Set up for plotting\n",
    "fig, ax = plt.subplots(constrained_layout=True)\n",
    "\n",
    "ax1 = plt.subplot()\n",
    "l1, = ax1.plot(new_df['cumulative num instances']/1000000, color = 'blue', marker='o' ,alpha = 0.75)\n",
    "ax2 = ax1.twinx()\n",
    "l2, = ax2.plot(new_df['mean class imbalance'], color='red', linestyle='--', marker='*', alpha = 0.75)\n",
    "\n",
    "### x axis set up\n",
    "x_axis = np.arange(len(new_df.index))\n",
    "ax1.set_xticks(ticks = x_axis)\n",
    "ax1.set_xticklabels(new_df.index, rotation = 45, fontsize = 12, horizontalalignment = 'right') # temp_df[var][::5]\n",
    "ax1.set_xlabel(\"daily data\", fontsize = 14)\n",
    "\n",
    "### left y axis set up\n",
    "ax1.set_ylabel('Cumulative data size (in millions of instances)', fontsize = 14)\n",
    "\n",
    "\n",
    "### right y axis set up\n",
    "yticks_right = mticker.FormatStrFormatter('%.2f%%')\n",
    "ax2.yaxis.set_major_formatter(yticks_right)\n",
    "ax2.yaxis.set_ticks(np.arange(0.0, 0.10, 0.01))\n",
    "ax2.set_ylabel(\"User response 'Clicks' - class imbalance proportion\", fontsize = 14)\n",
    "\n",
    "ax1.set_title('3 weeks cumulative data size vs class imbalance ratio ', fontsize = 14)\n",
    "# fig.suptitle('3 weeks cumulative data size vs class imbalance ratio ', fontsize =12)\n",
    "\n",
    "\n",
    "### legend set up\n",
    "plt.legend([l1, l2], [\"Data size\", \"class imbalance\"], loc = 'lower right', frameon = True)\n",
    "\n",
    "plt.show()"
   ]
  },
  {
   "cell_type": "markdown",
   "id": "8c20e1d7",
   "metadata": {},
   "source": [
    "# Appendix"
   ]
  },
  {
   "cell_type": "markdown",
   "id": "7523a97e",
   "metadata": {},
   "source": [
    "### A. Load into memory a complete week data"
   ]
  },
  {
   "cell_type": "code",
   "execution_count": null,
   "id": "9db332c9",
   "metadata": {},
   "outputs": [],
   "source": [
    "### Load a complete week from pickle files\n",
    "pickles_list = ['client_day_1', 'client_day_2', 'client_day_3', 'client_day_4', 'client_day_5', 'client_day_6', 'client_day_7']\n",
    "\n",
    "days_list= []\n",
    "for pickle in pickles_list:\n",
    "    pickled_data = bz2.BZ2File(path_w1 + pickle, 'rb')\n",
    "    temp_df = cPickle.load(pickled_data)\n",
    "    pickled_data.close()\n",
    "    days_list.append(temp_df)\n",
    "\n",
    "for day in days_list:\n",
    "    week_df = pd.concat([*days_list], axis=0) "
   ]
  },
  {
   "cell_type": "code",
   "execution_count": null,
   "id": "01edd12e",
   "metadata": {},
   "outputs": [],
   "source": [
    "# transform new stratified sample to pickle file\n",
    "sfile = bz2.BZ2File(path_w1 + 'complete_week1', 'w')\n",
    "pickle.dump(week_df,sfile)\n",
    "sfile.close()"
   ]
  },
  {
   "cell_type": "markdown",
   "id": "1d196b40",
   "metadata": {},
   "source": [
    "### B. Create a data set size and class imbalance data frame"
   ]
  },
  {
   "cell_type": "code",
   "execution_count": null,
   "id": "1fa3b518",
   "metadata": {},
   "outputs": [],
   "source": [
    "### Compute data size and class imbalance data frame for 1 week\n",
    "\n",
    "# list of all pickles in the provided repository\n",
    "pickles_list = ['client_day_1', 'client_day_2', 'client_day_3', 'client_day_4', 'client_day_5', 'client_day_6', 'client_day_7']\n",
    "\n",
    "size = []\n",
    "class_imbalance = []\n",
    "\n",
    "# load pickled files from daily data\n",
    "for idx, pickle in enumerate(pickles_list):\n",
    "    pickled_data = bz2.BZ2File(path_w1 + pickle, 'rb')\n",
    "    n_df = cPickle.load(pickled_data)\n",
    "    pickled_data.close()\n",
    "\n",
    "# target feature 'user response'\n",
    "    n_df['user_response'] = np.where(n_df['Clicks'] == 0, 0, 1)\n",
    "\n",
    "# append total number of instance and class imbalance ratio\n",
    "    size.append(n_df.shape[0])\n",
    "    class_imbalance.append(n_df['user_response'].value_counts(normalize = True, sort = True)[1])\n",
    "\n",
    "new_df = pd.DataFrame(list(zip(size, class_imbalance)),\n",
    "           columns =['Total num instances', 'target class imbalance'], index =['day_1', 'day_2', 'day_3', 'day_4', 'day_5', 'day_6', 'day_7'])"
   ]
  },
  {
   "cell_type": "markdown",
   "id": "244c675c",
   "metadata": {},
   "source": [
    "## Exporting as csv"
   ]
  },
  {
   "cell_type": "code",
   "execution_count": null,
   "id": "61bb9768",
   "metadata": {},
   "outputs": [],
   "source": [
    "w1_df.to_csv(path + 'sample_w1_5pct.csv', index = True, index_label = False)"
   ]
  },
  {
   "cell_type": "code",
   "execution_count": null,
   "id": "f0c2054e",
   "metadata": {},
   "outputs": [],
   "source": [
    "w2_df.to_csv(path + 'sample_w2_15pct.csv', index = True, index_label = False)"
   ]
  },
  {
   "cell_type": "code",
   "execution_count": null,
   "id": "2ec26151",
   "metadata": {},
   "outputs": [],
   "source": [
    "w3_df.to_csv(path + 'sample_w3_5pct.csv', index = True, index_label = False)"
   ]
  }
 ],
 "metadata": {
  "kernelspec": {
   "display_name": "Python 3",
   "language": "python",
   "name": "python3"
  },
  "language_info": {
   "codemirror_mode": {
    "name": "ipython",
    "version": 3
   },
   "file_extension": ".py",
   "mimetype": "text/x-python",
   "name": "python",
   "nbconvert_exporter": "python",
   "pygments_lexer": "ipython3",
   "version": "3.8.2"
  }
 },
 "nbformat": 4,
 "nbformat_minor": 5
}
