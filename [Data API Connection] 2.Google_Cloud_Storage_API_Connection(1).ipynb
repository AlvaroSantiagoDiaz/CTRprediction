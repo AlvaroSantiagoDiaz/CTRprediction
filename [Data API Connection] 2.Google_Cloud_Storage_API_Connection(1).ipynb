{
 "cells": [
  {
   "cell_type": "markdown",
   "id": "ba586a6c",
   "metadata": {},
   "source": [
    "# 1. Google Cloud Storage API connection\n",
    "\n",
    "**Note**: This notebook permits the connection to Google Cloud Storage files, mainly to load them and store them in local memory in pickle format, which consumes less memory space."
   ]
  },
  {
   "cell_type": "markdown",
   "id": "b8c037d8",
   "metadata": {},
   "source": [
    "<div class=\"alert alert-block alert-warning\">\n",
    "  \n",
    "<b>Notebook objectives:</b>\n",
    "    \n",
    "* Connect to data source via Google Cloud Storage API\n",
    "    \n",
    "* Export daily data in pickle format and store in specified directory\n",
    "    "
   ]
  },
  {
   "cell_type": "markdown",
   "id": "286933f2",
   "metadata": {},
   "source": [
    "## 1.1 Packages Installs\n",
    "\n",
    "Uncomment and run eveytime a new environment is created"
   ]
  },
  {
   "cell_type": "code",
   "execution_count": 2,
   "id": "d92c5081",
   "metadata": {},
   "outputs": [],
   "source": [
    "### Google Cloud Storage API packages\n",
    "!pip install cloudstorage\n",
    "!pip install --upgrade google-cloud-storage # might only need this update if there are inheritance problems.\n",
    "!pip install gcsfs"
   ]
  },
  {
   "cell_type": "markdown",
   "id": "f08e63d4",
   "metadata": {},
   "source": [
    "## 1.2 Importing packages\n",
    "\n",
    "- Google Bigquery\n",
    "\n",
    "- Json (JavaScript Object Notation)\n",
    "\n",
    "- Google Cloud Storage\n",
    "\n",
    "- Google Authentication"
   ]
  },
  {
   "cell_type": "code",
   "execution_count": 1,
   "id": "49712854",
   "metadata": {},
   "outputs": [],
   "source": [
    "##### Importing packages\n",
    "\n",
    "# Google API handling\n",
    "import json\n",
    "from google.cloud import bigquery\n",
    "from google.cloud import storage\n",
    "from google.oauth2 import service_account\n",
    "\n",
    "# Data handling\n",
    "import numpy as np\n",
    "import pandas as pd\n",
    "import warnings\n",
    "warnings.filterwarnings('ignore')\n",
    "\n",
    "# File format handling\n",
    "import pickle\n",
    "import bz2\n",
    "import _pickle as cPickle\n",
    "\n",
    "\n",
    "# Path set up (If a new directory is used all of the paths need to be updated)\n",
    "path = \"/project/data/\" \n",
    "path_w1 = \"/project/data/w1/\"\n",
    "path_w2 = \"/project/data/w2/\"\n",
    "path_w3 = \"/project/data/w3/\"\n",
    "path_w4 = \"/project/data/w4/\"\n",
    "path_w5 = \"/project/data/w5/\"\n",
    "json_path = \"/project/KEYFILE.json\""
   ]
  },
  {
   "cell_type": "markdown",
   "id": "131d6ea8",
   "metadata": {},
   "source": [
    "# Pre-defined functions\n",
    "\n",
    "These functions are used to handle the data from Google Cloud Storage and apply transformations to reduce the size of the raw csvs vs random sampling."
   ]
  },
  {
   "cell_type": "code",
   "execution_count": 2,
   "id": "43c658c6",
   "metadata": {},
   "outputs": [],
   "source": [
    "###### Pre-defined functions\n",
    "\n",
    "### Function to transform files in google storage from csv format to pickle compressed form\n",
    "\n",
    "def transform_2_pickle(csv_list, path_pickle, google_JSON_path):\n",
    "    \n",
    "    '''\n",
    "    This function receives:\n",
    "    - List of Google Cloud Storage gsuit file paths in which the data is store (https://cloud.google.com/storage/docs/gsutil)\n",
    "    - Path in the working directory to save the generated pickle files\n",
    "    - Path in the working directory in which a JSON token provides de credentials to access Google Cloud Storage\n",
    "    \n",
    "    The  function will out put:\n",
    "     - New compressed pickles formats of the data stored in the provided directory\n",
    "    \n",
    "    '''\n",
    "    for data in enumerate(csv_list):\n",
    "        temp_df = pd.read_csv(data[1], storage_options={\"token\": google_JSON_path})\n",
    "\n",
    "        # file conversion to pickle and compression\n",
    "        itr = str(data[0]+1)\n",
    "        filename = 'client_day_' + itr\n",
    "        sfile = bz2.BZ2File(path_pickle + filename, 'w')\n",
    "        pickle.dump(temp_df,sfile)\n",
    "        sfile.close()\n",
    "        \n",
    "    return print(f'Successfully stored {len(csv_list)} new data files in pkl format under path: {path_pickle}') "
   ]
  },
  {
   "cell_type": "markdown",
   "id": "f1a1c4f1",
   "metadata": {},
   "source": [
    "# 2. Handling data from Google Cloud Storage\n",
    "\n",
    "In order to avoid collapsing the kernel, the pickle generation has to be done for each week's data per time.\n",
    "\n",
    "Additionally, after the pickle data is generated is recommended to restart the kernel before attempting to generate the new data frame from the samples."
   ]
  },
  {
   "cell_type": "markdown",
   "id": "f6a22864",
   "metadata": {},
   "source": [
    "## 2.1 Connection to Google Cloud API\n",
    "\n",
    "Loading a csv from google cloud storage providing the file path.\n",
    "\n",
    "**Note:** Only run this cell if a complete csv from gcs wants to be loaded into memory.\n"
   ]
  },
  {
   "cell_type": "code",
   "execution_count": null,
   "id": "48d04e39",
   "metadata": {
    "scrolled": true
   },
   "outputs": [],
   "source": [
    "# get data from google cloud path\n",
    "# raw_data = pd.read_csv('gs://map_testingdata/ADD_TestingFolder/OceanSaver/OceanSaver_ADD_20220421_144038_943556045_3669978067.csv',\n",
    "#                  storage_options={\"token\": \"/project/notebooks/sandbox/KEYFILE.json\"})\n",
    "\n",
    "# data = raw_data.copy() #creating a copy to avoid altering original data"
   ]
  },
  {
   "cell_type": "markdown",
   "id": "a0ed605a",
   "metadata": {},
   "source": [
    "## 2.2 Google cloud file paths\n",
    "\n",
    "lists containing google cloud storage paths containing daily data in csv format."
   ]
  },
  {
   "cell_type": "code",
   "execution_count": 4,
   "id": "63604ba0",
   "metadata": {},
   "outputs": [],
   "source": [
    "# Defining a complete list of google cloud storage paths to connect via API\n",
    "client_data = ['gs://map_testingdata/ADD_TestingFolder/OceanSaver/OceanSaver_ADD_20220421_144038_943556045_3669978067.csv',\n",
    "              'gs://map_testingdata/ADD_TestingFolder/OceanSaver/OceanSaver_ADD_20220421_144253_943556045_3669977120.csv',\n",
    "              'gs://map_testingdata/ADD_TestingFolder/OceanSaver/OceanSaver_ADD_20220421_144637_943556045_3669977266.csv',\n",
    "              'gs://map_testingdata/ADD_TestingFolder/OceanSaver/OceanSaver_ADD_20220421_144806_943556045_3669975884.csv',\n",
    "              'gs://map_testingdata/ADD_TestingFolder/OceanSaver/OceanSaver_ADD_20220421_145007_943556045_3669976899.csv',\n",
    "              'gs://map_testingdata/ADD_TestingFolder/OceanSaver/OceanSaver_ADD_20220421_145011_943556045_3669976131.csv',\n",
    "              'gs://map_testingdata/ADD_TestingFolder/OceanSaver/OceanSaver_ADD_20220421_145409_943556045_3669977107.csv',\n",
    "              'gs://map_testingdata/ADD_TestingFolder/OceanSaver/OceanSaver_ADD_20220421_150254_943556045_3669976775.csv',\n",
    "              'gs://map_testingdata/ADD_TestingFolder/OceanSaver/OceanSaver_ADD_20220421_150354_943556045_3669977404.csv',\n",
    "              'gs://map_testingdata/ADD_TestingFolder/OceanSaver/OceanSaver_ADD_20220421_151355_943556045_3669976894.csv',\n",
    "              'gs://map_testingdata/ADD_TestingFolder/OceanSaver/OceanSaver_ADD_20220421_152655_943556045_3669976586.csv',\n",
    "              'gs://map_testingdata/ADD_TestingFolder/OceanSaver/OceanSaver_ADD_20220421_153710_943556045_3669977873.csv',\n",
    "              'gs://map_testingdata/ADD_TestingFolder/OceanSaver/OceanSaver_ADD_20220421_154954_943556045_3669976870.csv',\n",
    "              'gs://map_testingdata/ADD_TestingFolder/OceanSaver/OceanSaver_ADD_20220421_162459_943556045_3669977382.csv',\n",
    "              'gs://map_testingdata/ADD_TestingFolder/OceanSaver/OceanSaver_ADD_20220421_162643_943556045_3669977882.csv',\n",
    "              'gs://map_testingdata/ADD_TestingFolder/OceanSaver/OceanSaver_ADD_20220421_163945_943556045_3669978002.csv',\n",
    "              'gs://map_testingdata/ADD_TestingFolder/OceanSaver/OceanSaver_ADD_20220422_013031_943556045_3670354162.csv',\n",
    "              'gs://map_testingdata/ADD_TestingFolder/OceanSaver/OceanSaver_ADD_20220423_015510_943556045_3671466489.csv',\n",
    "              'gs://map_testingdata/ADD_TestingFolder/OceanSaver/OceanSaver_ADD_20220424_013336_943556045_3672541034.csv',\n",
    "              'gs://map_testingdata/ADD_TestingFolder/OceanSaver/OceanSaver_ADD_20220425_010447_943556045_3673605064.csv',\n",
    "              'gs://map_testingdata/ADD_TestingFolder/OceanSaver/OceanSaver_ADD_20220426_020558_943556045_3674759660.csv',\n",
    "              'gs://map_testingdata/ADD_TestingFolder/OceanSaver/OceanSaver_ADD_20220427_005711_943556045_3675887689.csv',\n",
    "              'gs://map_testingdata/ADD_TestingFolder/OceanSaver/OceanSaver_ADD_20220428_012607_943556045_3677006841.csv',\n",
    "              'gs://map_testingdata/ADD_TestingFolder/OceanSaver/OceanSaver_ADD_20220429_020119_943556045_3678135669.csv',\n",
    "              'gs://map_testingdata/ADD_TestingFolder/OceanSaver/OceanSaver_ADD_20220430_015833_943556045_3679248545.csv',\n",
    "              'gs://map_testingdata/ADD_TestingFolder/OceanSaver/OceanSaver_ADD_20220501_014108_943556045_3680324184.csv',\n",
    "              'gs://map_testingdata/ADD_TestingFolder/OceanSaver/OceanSaver_ADD_20220502_012949_943556045_3681411070.csv',\n",
    "              'gs://map_testingdata/ADD_TestingFolder/OceanSaver/OceanSaver_ADD_20220503_023223_943556045_3682562803.csv',\n",
    "              'gs://map_testingdata/ADD_TestingFolder/OceanSaver/OceanSaver_ADD_20220504_014637_943556045_3683713181.csv',\n",
    "              'gs://map_testingdata/ADD_TestingFolder/OceanSaver/OceanSaver_ADD_20220505_005531_943556045_3684873343.csv',\n",
    "              'gs://map_testingdata/ADD_TestingFolder/OceanSaver/OceanSaver_ADD_20220506_005709_943556045_3686025686.csv',\n",
    "              'gs://map_testingdata/ADD_TestingFolder/OceanSaver/OceanSaver_ADD_20220507_011303_943556045_3687156915.csv',\n",
    "              'gs://map_testingdata/ADD_TestingFolder/OceanSaver/OceanSaver_ADD_20220508_010559_943556045_3688230263.csv',\n",
    "              'gs://map_testingdata/ADD_TestingFolder/OceanSaver/OceanSaver_ADD_20220509_004721_943556045_3689305375.csv',\n",
    "              'gs://map_testingdata/ADD_TestingFolder/OceanSaver/OceanSaver_ADD_20220510_014103_943556045_3690473264.csv']"
   ]
  },
  {
   "cell_type": "code",
   "execution_count": 5,
   "id": "3b3848e1",
   "metadata": {},
   "outputs": [],
   "source": [
    "# 1st week data list of google cloud map paths\n",
    "first_week_data = ['gs://map_testingdata/ADD_TestingFolder/OceanSaver/OceanSaver_ADD_20220421_144038_943556045_3669978067.csv',\n",
    "              'gs://map_testingdata/ADD_TestingFolder/OceanSaver/OceanSaver_ADD_20220421_144253_943556045_3669977120.csv',\n",
    "              'gs://map_testingdata/ADD_TestingFolder/OceanSaver/OceanSaver_ADD_20220421_144637_943556045_3669977266.csv',\n",
    "              'gs://map_testingdata/ADD_TestingFolder/OceanSaver/OceanSaver_ADD_20220421_144806_943556045_3669975884.csv',\n",
    "              'gs://map_testingdata/ADD_TestingFolder/OceanSaver/OceanSaver_ADD_20220421_145007_943556045_3669976899.csv',\n",
    "              'gs://map_testingdata/ADD_TestingFolder/OceanSaver/OceanSaver_ADD_20220421_145011_943556045_3669976131.csv',\n",
    "              'gs://map_testingdata/ADD_TestingFolder/OceanSaver/OceanSaver_ADD_20220421_145409_943556045_3669977107.csv']"
   ]
  },
  {
   "cell_type": "code",
   "execution_count": 6,
   "id": "c45b088d",
   "metadata": {},
   "outputs": [],
   "source": [
    "# 2nd week data list of google cloud map paths\n",
    "second_week_data = ['gs://map_testingdata/ADD_TestingFolder/OceanSaver/OceanSaver_ADD_20220421_150254_943556045_3669976775.csv',\n",
    "              'gs://map_testingdata/ADD_TestingFolder/OceanSaver/OceanSaver_ADD_20220421_150354_943556045_3669977404.csv',\n",
    "              'gs://map_testingdata/ADD_TestingFolder/OceanSaver/OceanSaver_ADD_20220421_151355_943556045_3669976894.csv',\n",
    "              'gs://map_testingdata/ADD_TestingFolder/OceanSaver/OceanSaver_ADD_20220421_152655_943556045_3669976586.csv',\n",
    "              'gs://map_testingdata/ADD_TestingFolder/OceanSaver/OceanSaver_ADD_20220421_153710_943556045_3669977873.csv',\n",
    "              'gs://map_testingdata/ADD_TestingFolder/OceanSaver/OceanSaver_ADD_20220421_154954_943556045_3669976870.csv',\n",
    "              'gs://map_testingdata/ADD_TestingFolder/OceanSaver/OceanSaver_ADD_20220421_162459_943556045_3669977382.csv']"
   ]
  },
  {
   "cell_type": "code",
   "execution_count": 7,
   "id": "76be35e1",
   "metadata": {},
   "outputs": [],
   "source": [
    "# 3rd week data list of google cloud map paths\n",
    "third_week_data = ['gs://map_testingdata/ADD_TestingFolder/OceanSaver/OceanSaver_ADD_20220421_162643_943556045_3669977882.csv',\n",
    "              'gs://map_testingdata/ADD_TestingFolder/OceanSaver/OceanSaver_ADD_20220421_163945_943556045_3669978002.csv',\n",
    "              'gs://map_testingdata/ADD_TestingFolder/OceanSaver/OceanSaver_ADD_20220422_013031_943556045_3670354162.csv',\n",
    "              'gs://map_testingdata/ADD_TestingFolder/OceanSaver/OceanSaver_ADD_20220423_015510_943556045_3671466489.csv',\n",
    "              'gs://map_testingdata/ADD_TestingFolder/OceanSaver/OceanSaver_ADD_20220424_013336_943556045_3672541034.csv',\n",
    "              'gs://map_testingdata/ADD_TestingFolder/OceanSaver/OceanSaver_ADD_20220425_010447_943556045_3673605064.csv',\n",
    "              'gs://map_testingdata/ADD_TestingFolder/OceanSaver/OceanSaver_ADD_20220426_020558_943556045_3674759660.csv']"
   ]
  },
  {
   "cell_type": "code",
   "execution_count": 8,
   "id": "e6e64c3a",
   "metadata": {},
   "outputs": [],
   "source": [
    "# 4th week data list of google cloud map paths\n",
    "fourth_week_data = ['gs://map_testingdata/ADD_TestingFolder/OceanSaver/OceanSaver_ADD_20220427_005711_943556045_3675887689.csv',\n",
    "              'gs://map_testingdata/ADD_TestingFolder/OceanSaver/OceanSaver_ADD_20220428_012607_943556045_3677006841.csv',\n",
    "              'gs://map_testingdata/ADD_TestingFolder/OceanSaver/OceanSaver_ADD_20220429_020119_943556045_3678135669.csv',\n",
    "              'gs://map_testingdata/ADD_TestingFolder/OceanSaver/OceanSaver_ADD_20220430_015833_943556045_3679248545.csv',\n",
    "              'gs://map_testingdata/ADD_TestingFolder/OceanSaver/OceanSaver_ADD_20220501_014108_943556045_3680324184.csv',\n",
    "              'gs://map_testingdata/ADD_TestingFolder/OceanSaver/OceanSaver_ADD_20220502_012949_943556045_3681411070.csv',\n",
    "              'gs://map_testingdata/ADD_TestingFolder/OceanSaver/OceanSaver_ADD_20220503_023223_943556045_3682562803.csv']"
   ]
  },
  {
   "cell_type": "code",
   "execution_count": 9,
   "id": "c78a9d04",
   "metadata": {},
   "outputs": [],
   "source": [
    "# 5th week data list of google cloud map paths\n",
    "fifth_week_data = ['gs://map_testingdata/ADD_TestingFolder/OceanSaver/OceanSaver_ADD_20220504_014637_943556045_3683713181.csv',\n",
    "              'gs://map_testingdata/ADD_TestingFolder/OceanSaver/OceanSaver_ADD_20220505_005531_943556045_3684873343.csv',\n",
    "              'gs://map_testingdata/ADD_TestingFolder/OceanSaver/OceanSaver_ADD_20220506_005709_943556045_3686025686.csv',\n",
    "              'gs://map_testingdata/ADD_TestingFolder/OceanSaver/OceanSaver_ADD_20220507_011303_943556045_3687156915.csv',\n",
    "              'gs://map_testingdata/ADD_TestingFolder/OceanSaver/OceanSaver_ADD_20220508_010559_943556045_3688230263.csv',\n",
    "              'gs://map_testingdata/ADD_TestingFolder/OceanSaver/OceanSaver_ADD_20220509_004721_943556045_3689305375.csv',\n",
    "              'gs://map_testingdata/ADD_TestingFolder/OceanSaver/OceanSaver_ADD_20220510_014103_943556045_3690473264.csv']"
   ]
  },
  {
   "cell_type": "markdown",
   "id": "8d0cc4b9",
   "metadata": {},
   "source": [
    "## 2.3 Generate pickle files\n",
    "\n",
    "This step is covered to store in the local directory a compressed file form of the data (i.e., pickle) to optimized memory usage."
   ]
  },
  {
   "cell_type": "code",
   "execution_count": 36,
   "id": "eab8d8da",
   "metadata": {},
   "outputs": [
    {
     "name": "stdout",
     "output_type": "stream",
     "text": [
      "Successfully stored 7 new data files in pkl format under path: /project/data/w1/\n"
     ]
    }
   ],
   "source": [
    "# Run pre-defined function to transform csv files to pickles\n",
    "\n",
    "transform_2_pickle(first_week_data, path_w1, json_path)"
   ]
  }
 ],
 "metadata": {
  "kernelspec": {
   "display_name": "Python 3",
   "language": "python",
   "name": "python3"
  },
  "language_info": {
   "codemirror_mode": {
    "name": "ipython",
    "version": 3
   },
   "file_extension": ".py",
   "mimetype": "text/x-python",
   "name": "python",
   "nbconvert_exporter": "python",
   "pygments_lexer": "ipython3",
   "version": "3.8.2"
  }
 },
 "nbformat": 4,
 "nbformat_minor": 5
}
